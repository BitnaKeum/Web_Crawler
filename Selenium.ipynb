{
 "cells": [
  {
   "cell_type": "markdown",
   "metadata": {},
   "source": [
    "크롬 드라이버 설치 : https://chromedriver.chromium.org/downloads"
   ]
  },
  {
   "cell_type": "code",
   "execution_count": 1,
   "metadata": {
    "ExecuteTime": {
     "end_time": "2021-02-03T08:06:04.903769Z",
     "start_time": "2021-02-03T08:06:02.586156Z"
    },
    "collapsed": true,
    "slideshow": {
     "slide_type": "slide"
    }
   },
   "outputs": [
    {
     "name": "stdout",
     "output_type": "stream",
     "text": [
      "Collecting selenium\n",
      "  Using cached selenium-3.141.0-py2.py3-none-any.whl (904 kB)\n",
      "Requirement already satisfied: urllib3 in c:\\users\\beaus\\anaconda3\\lib\\site-packages (from selenium) (1.22)\n",
      "Installing collected packages: selenium\n",
      "Successfully installed selenium-3.141.0\n"
     ]
    },
    {
     "name": "stderr",
     "output_type": "stream",
     "text": [
      "WARNING: You are using pip version 21.1.2; however, version 21.1.3 is available.\n",
      "You should consider upgrading via the 'c:\\users\\beaus\\anaconda3\\python.exe -m pip install --upgrade pip' command.\n"
     ]
    }
   ],
   "source": [
    "# 셀레니움 설치\n",
    "!pip install selenium"
   ]
  },
  {
   "cell_type": "code",
   "execution_count": 1,
   "metadata": {
    "ExecuteTime": {
     "end_time": "2021-02-04T02:35:27.562924Z",
     "start_time": "2021-02-04T02:35:27.475526Z"
    },
    "slideshow": {
     "slide_type": "fragment"
    }
   },
   "outputs": [],
   "source": [
    "from selenium import webdriver\n",
    "from bs4 import BeautifulSoup"
   ]
  },
  {
   "cell_type": "markdown",
   "metadata": {
    "slideshow": {
     "slide_type": "slide"
    }
   },
   "source": [
    "### 키워드 검색"
   ]
  },
  {
   "cell_type": "code",
   "execution_count": 6,
   "metadata": {
    "ExecuteTime": {
     "end_time": "2021-02-03T08:07:32.360636Z",
     "start_time": "2021-02-03T08:07:29.450243Z"
    }
   },
   "outputs": [],
   "source": [
    "# 크롬창 열기\n",
    "driver = webdriver.Chrome(\"./chromedriver\")\n",
    "\n",
    "# 설정한 url로 데이터 get함수로 요청\n",
    "url = 'https://www.naver.com'\n",
    "driver.get(url)\n",
    "\n",
    "# 키워드를 입력받아 검색창에 키워드 검색\n",
    "key_word = input('키워드를 입력하세요 :')\n",
    "driver.find_element_by_xpath('//*[@id=\"query\"]').send_keys(f'{key_word}' + '\\n')"
   ]
  },
  {
   "cell_type": "markdown",
   "metadata": {},
   "source": [
    "### 네이버 로그인 및 네이버페이 상품명 가져오기"
   ]
  },
  {
   "cell_type": "code",
   "execution_count": 15,
   "metadata": {},
   "outputs": [],
   "source": [
    "driver = webdriver.Chrome('./chromedriver')\n",
    "driver.implicitly_wait(3)\n",
    "driver.get('https://nid.naver.com/nidlogin.login') # 로그인 페이지로 이동\n",
    "\n",
    "driver.find_element_by_name('id').send_keys('아이디입력!!')\n",
    "driver.find_element_by_name('pw').send_keys('패스워드입력!!')\n",
    "driver.find_element_by_xpath('//*[@id=\"log.login\"]').click() # 로그인 버튼 클릭"
   ]
  },
  {
   "cell_type": "code",
   "execution_count": 25,
   "metadata": {},
   "outputs": [
    {
     "data": {
      "text/plain": [
       "['톰과제리 치즈 케이크 조각 미니 수제 냉동 파티쉐봉 3개 디저트 납품',\n",
       " '곰돌이푸 허니 버즈라이브 버즈프로 하드케이스 키링포함 티거 이요르 피글렛',\n",
       " '내츄럴365 슈퍼파워 비타민E 400IU  3개월분',\n",
       " '평면 강화유리 -  갤럭시 A31(A315)/A32(A325)',\n",
       " '투명젤리 케이스 갤럭시 A31 범퍼 A32 A51 A90 카드 A21S A퀀텀 A12',\n",
       " '투명젤리 케이스 갤럭시 A31 범퍼 A32 A51 A90 카드 A21S A퀀텀 A12',\n",
       " '국산 KF94 한마음 일회용 황사 마스크 식약처의약외품 방역 미세먼지 차단 3중 개별포장대형 50매 100매',\n",
       " '국산 KF94 한마음 일회용 황사 마스크 식약처의약외품 방역 미세먼지 차단 3중 개별포장대형 50매 100매',\n",
       " '피자 봉투  수량 : 100장',\n",
       " '[슈펜] 패딩 트루퍼햇 TPCK20W36',\n",
       " '피자 봉투  수량 : 100장',\n",
       " '피자 봉투  수량 : 100장',\n",
       " '나이스 독서대 101 102 103 502 202D 204D 2단 고시용 수험생',\n",
       " '귀여운 캐릭터 리무버블 다꾸 데코 스티커',\n",
       " '층간소음 방지 뽀글이 플리스 거실화 실내슬리퍼 사무실슬리퍼 - 스마일 위 러브']"
      ]
     },
     "execution_count": 25,
     "metadata": {},
     "output_type": "execute_result"
    }
   ],
   "source": [
    "driver.get('https://order.pay.naver.com/home') # 네이버페이 페이지로 이동\n",
    "\n",
    "src = driver.page_source # requests.get(url).text 와 유사한 역할\n",
    "\n",
    "soup = BeautifulSoup(src, 'html.parser') # html로 파싱\n",
    "name_list = soup.select('p.name') # html로부터 해당 태그를 찾아옴\n",
    "\n",
    "fin_name_list = []\n",
    "for name in name_list:\n",
    "    text = name.text # 상품명만 가져옴\n",
    "    text = text.replace('네이버플러스 멤버십', '') # 제거\n",
    "    text = text.replace('\\n', '') # 제거\n",
    "    text = text.replace('\\t', '') # 제거\n",
    "    fin_name_list.append(text)\n",
    "fin_name_list"
   ]
  },
  {
   "cell_type": "markdown",
   "metadata": {},
   "source": [
    "### 네이버 VIEW 제목 가져오기"
   ]
  },
  {
   "cell_type": "code",
   "execution_count": 46,
   "metadata": {},
   "outputs": [],
   "source": [
    "driver = webdriver.Chrome('./chromedriver')"
   ]
  },
  {
   "cell_type": "code",
   "execution_count": 49,
   "metadata": {},
   "outputs": [
    {
     "data": {
      "text/plain": [
       "['아기 오고 강아지가 외로워해요..',\n",
       " '강아지알러지사료 안성맞춤이야!',\n",
       " '강아지관절사료 잘먹어서 좋아요!',\n",
       " '우리 강아지좀 봐주세요 ㅠㅠ(제발 ㅠㅠ의견좀주세요)',\n",
       " '강아지영양제 좋은 걸 고르라면!',\n",
       " '강아지 체리, 꼭지와 씨앗은 꼭 빼고 주세요!',\n",
       " '부산강아지분양 이제 행복해 파티포메라니안',\n",
       " '강아지 관절영양제 하루한번 꼭 챙겨요',\n",
       " '강아지공포증',\n",
       " '강아지 방광종양 수술',\n",
       " '강아지 본 누나가 분노 폭발한 이유..\"남동생이 강아지 셀프 미용해 줬는데\"',\n",
       " '강아지랑못어울리는듯..',\n",
       " '강아지 천둥 번개 무서워하는 의외의 이유는?',\n",
       " '강아지유산균 하나면 충분해~',\n",
       " '강아지음수량 늘리기 - 강아지가 물을 너무 안마셔요',\n",
       " '강남강아지분양 사라진 우울',\n",
       " '천안강아지보호소 새가족 만나기',\n",
       " '강아지 목욕 후 냄세....',\n",
       " '세종강아지분양 같이 움직여',\n",
       " '일산강아지분양 좋은기운 가득',\n",
       " '동네강아지들과 인사 많이 시키시나요?',\n",
       " '강아지 수박 먹일때 주의할점은?',\n",
       " '강아지 발정 암컷강아지 발정기와 교배 시기',\n",
       " '이런경우 강아지 주인은 누구인가요?',\n",
       " '인천강아지분양 요기독은 달라요!',\n",
       " '방탈이면 죄송합니다.. 강아지를 찾습니다.',\n",
       " '강아지 어리광 부릴 때 / 강아지가 스킨십을 원할 때',\n",
       " '강아지 임신초기증상은?',\n",
       " '대체 식분증 없는 강아지가 존재하긴 한걸까요?',\n",
       " '강아지를 위한 영양제 종류와 효과 추천 주의사항',\n",
       " '너무 안짖는 강아지...이정도면 특이한건가요',\n",
       " '강아지 심장병 증상 확인해보세요!',\n",
       " '강아지는 언제쯤 안정적이 될까?',\n",
       " '산책 시 만나는 강아지들이 짖으면..',\n",
       " '강아지 훈련용 간식 천재견이 되어볼까',\n",
       " '사회성없는 강아지 호텔링 ㅠ',\n",
       " '강아지 노즈워크 장난감 집에서도 신나개 즐겁게 !',\n",
       " '강아지 유산균 멍산균 하나면 OK',\n",
       " '스마트코지 펫CCTV 강아지장난감 밤에도 잘보여요',\n",
       " '수원강아지분양 새로운 나의 가족',\n",
       " '[반려상식] 강아지 인사법',\n",
       " '반려동물 등록 인식표로 강아지 보호',\n",
       " '강아지 장난감 노즈워크 멍휴지로 씹고 뜯고 즐겨요',\n",
       " '강아지화식 저알러지사료 강아지 사료 안먹을때 이걸로',\n",
       " '강아지분양을 알아보신다면 퍼피움에서 알아보세요!',\n",
       " '강아지 등에 혹이 있다면?(강아지 지방종 특징)',\n",
       " '면목동동물병원 강아지 골절수술 받은 후기',\n",
       " '강아지 산책할때',\n",
       " '프렌치불독 블루 분양 _ 강동구강아지분양',\n",
       " '강아지 이름, 그림 들어간 케이프 만들어드릴게요',\n",
       " '본인 강아지 응가는 본인이..',\n",
       " '강아지 변경?? 구청신고?',\n",
       " '강아지 키우시는 분들 로봇청소기..',\n",
       " '여름휴가요 펫시터?강아지호텔?',\n",
       " '강아지 잘 지내고 있어요',\n",
       " '강아지 입원 시키고 왔어요.',\n",
       " '강아지와 합사 조언 부탁드립니다^^',\n",
       " '큰 강아지 으르렁거림의 의미',\n",
       " '강아지에게 꼭 필요한 단백질 어떻게 급여할까?',\n",
       " '저희 강아지 혀 길이가...',\n",
       " '3개월 강아지 얼마나 놀아주세요?(문제행동)',\n",
       " '강아지 입양하고 싶어요',\n",
       " '아기강아지 홍역이면..ㅠ',\n",
       " '강아지가 늙으면 원래 그런가요??',\n",
       " '새끼강아지 발작',\n",
       " '잃어버린 강아지 찾아요...',\n",
       " '강아지랑 고양이 합사 ... 망한건가요....?',\n",
       " '강아지가 사료를 안 먹어요']"
      ]
     },
     "execution_count": 49,
     "metadata": {},
     "output_type": "execute_result"
    }
   ],
   "source": [
    "# driver.get('https://www.naver.com/')\n",
    "# driver.find_element_by_xpath('//*[@id=\"query\"]').send_keys(f'강아지\\n') # 검색어 입력 후 엔터\n",
    "# driver.find_element_by_xpath('//*[@id=\"lnb\"]/div[1]/div/ul/li[5]/a').click() # VIEW 탭 클릭\n",
    "\n",
    "driver.get('https://search.naver.com/search.naver?where=view&sm=tab_jum&query=강아지')\n",
    "\n",
    "import time\n",
    "for _ in range(4):\n",
    "    driver.execute_script(\"window.scrollTo(0, document.body.scrollHeight);\") # 스크롤\n",
    "    time.sleep(1) # 스크롤 대기\n",
    "    \n",
    "src = driver.page_source # 페이지의 elements 모두 가져오기\n",
    "soup = BeautifulSoup(src, 'html.parser')\n",
    "values = soup.select('a.api_txt_lines')\n",
    "\n",
    "title_list = []\n",
    "for value in values:\n",
    "    title_list.append(value.text) # 제목만 가져옴\n",
    "title_list"
   ]
  },
  {
   "cell_type": "markdown",
   "metadata": {},
   "source": [
    "## 인스타그램 크롤링"
   ]
  },
  {
   "cell_type": "code",
   "execution_count": null,
   "metadata": {},
   "outputs": [],
   "source": [
    "# 이미지 저장을 위한 패키지\n",
    "import urllib\n",
    "urllib.request.urlretrieve(img_url, f'{index}.jpg')"
   ]
  },
  {
   "cell_type": "code",
   "execution_count": 28,
   "metadata": {
    "ExecuteTime": {
     "end_time": "2021-02-04T03:47:23.587849Z",
     "start_time": "2021-02-04T03:47:20.536318Z"
    }
   },
   "outputs": [],
   "source": [
    "# 인스타로그인 페이지 이동\n",
    "driver = webdriver.Chrome(\"./chromedriver\")\n",
    "url ='https://www.instagram.com/'\n",
    "driver.get(url)"
   ]
  },
  {
   "cell_type": "code",
   "execution_count": 29,
   "metadata": {
    "ExecuteTime": {
     "end_time": "2021-02-04T03:47:45.222716Z",
     "start_time": "2021-02-04T03:47:43.942864Z"
    }
   },
   "outputs": [],
   "source": [
    "# 페이스북 로그인 클릭\n",
    "driver.find_element_by_xpath('//*[@id=\"loginForm\"]/div/div[5]/button/span[2]').click()"
   ]
  },
  {
   "cell_type": "code",
   "execution_count": 6,
   "metadata": {
    "ExecuteTime": {
     "end_time": "2021-02-04T00:22:01.949436Z",
     "start_time": "2021-02-04T00:22:01.782194Z"
    }
   },
   "outputs": [],
   "source": [
    "# 페이스북 로그인 정보 입력 후 로그인 버튼 클릭\n",
    "driver.find_element_by_xpath('//*[@id=\"email\"]').send_keys('아이디')\n",
    "driver.find_element_by_xpath('//*[@id=\"pass\"]').send_keys('비밀번호')\n",
    "# driver.find_element_by_xpath('//*[@id=\"loginbutton\"]').click()\n",
    "\n",
    "# 페이지 로딩에 약간의 시간이 필요하면\n",
    "import time\n",
    "time.sleep(4)"
   ]
  },
  {
   "cell_type": "code",
   "execution_count": 31,
   "metadata": {
    "ExecuteTime": {
     "end_time": "2021-02-04T03:50:18.312125Z",
     "start_time": "2021-02-04T03:50:18.264753Z"
    }
   },
   "outputs": [],
   "source": [
    "# 알림설정 팝업창 나중에 하기 클릭\n",
    "driver.find_element_by_xpath('/html/body/div[4]/div/div/div/div[3]/button[2]').click()"
   ]
  },
  {
   "cell_type": "code",
   "execution_count": 32,
   "metadata": {
    "ExecuteTime": {
     "end_time": "2021-02-04T03:51:26.087062Z",
     "start_time": "2021-02-04T03:51:25.940074Z"
    }
   },
   "outputs": [],
   "source": [
    "# 검색 키워드로 크롤링을 하기 위해 검색어 입력\n",
    "driver.find_element_by_xpath('//*[@id=\"react-root\"]/section/nav/div[2]/div/div/div[2]/input').send_keys('광운대맛집\\n')"
   ]
  },
  {
   "cell_type": "code",
   "execution_count": 33,
   "metadata": {
    "ExecuteTime": {
     "end_time": "2021-02-04T03:51:42.928549Z",
     "start_time": "2021-02-04T03:51:42.766681Z"
    }
   },
   "outputs": [],
   "source": [
    "# 첫번째 항목 접근\n",
    "driver.find_element_by_xpath('//*[@id=\"react-root\"]/section/nav/div[2]/div/div/div[2]/div[3]/div/div[2]/div/a[1]/div').click()"
   ]
  },
  {
   "cell_type": "code",
   "execution_count": 34,
   "metadata": {
    "ExecuteTime": {
     "end_time": "2021-02-04T03:52:09.783048Z",
     "start_time": "2021-02-04T03:52:09.709979Z"
    }
   },
   "outputs": [],
   "source": [
    "# 첫번째 포스팅 클릭\n",
    "driver.find_element_by_xpath('//*[@id=\"react-root\"]/section/main/article/div[1]/div/div/div[1]/div[1]/a/div/div[2]').click()"
   ]
  },
  {
   "cell_type": "code",
   "execution_count": 35,
   "metadata": {
    "ExecuteTime": {
     "end_time": "2021-02-04T03:52:23.388756Z",
     "start_time": "2021-02-04T03:52:23.308713Z"
    }
   },
   "outputs": [],
   "source": [
    "# 좋아요 누르기\n",
    "driver.find_element_by_xpath('/html/body/div[5]/div[2]/div/article/div[3]/section[1]/span[1]/button').click()"
   ]
  },
  {
   "cell_type": "code",
   "execution_count": 26,
   "metadata": {
    "ExecuteTime": {
     "end_time": "2021-02-04T02:26:53.973122Z",
     "start_time": "2021-02-04T02:26:53.856942Z"
    }
   },
   "outputs": [],
   "source": [
    "# 댓글 달기\n",
    "driver.find_element_by_xpath('/html/body/div[5]/div[2]/div/article/div[3]/section[3]/div/form/textarea').send_keys('잘 보고 갑니다.')"
   ]
  },
  {
   "cell_type": "code",
   "execution_count": 4,
   "metadata": {
    "ExecuteTime": {
     "end_time": "2021-02-04T02:37:45.568141Z",
     "start_time": "2021-02-04T02:37:45.552450Z"
    }
   },
   "outputs": [],
   "source": [
    "# 포스팅 image url 따오기\n",
    "image = driver.find_element_by_css_selector('img.FFVAD')"
   ]
  },
  {
   "cell_type": "code",
   "execution_count": 6,
   "metadata": {
    "ExecuteTime": {
     "end_time": "2021-02-04T02:40:18.163810Z",
     "start_time": "2021-02-04T02:40:18.153668Z"
    }
   },
   "outputs": [],
   "source": [
    "# image 변수에서 src 속성에 접근\n",
    "image_url = image.get_attribute('src')"
   ]
  },
  {
   "cell_type": "code",
   "execution_count": 7,
   "metadata": {
    "ExecuteTime": {
     "end_time": "2021-02-04T02:40:22.817166Z",
     "start_time": "2021-02-04T02:40:22.812184Z"
    }
   },
   "outputs": [
    {
     "data": {
      "text/plain": [
       "'https://scontent-ssn1-1.cdninstagram.com/v/t51.2885-15/e15/11111452_365495806987116_1848406621_n.jpg?_nc_ht=scontent-ssn1-1.cdninstagram.com&_nc_cat=100&_nc_ohc=4_1WZMDG2BYAX_saCui&tp=1&oh=833cfdab223842ba47dcb214b5bead9d&oe=6045E327'"
      ]
     },
     "execution_count": 7,
     "metadata": {},
     "output_type": "execute_result"
    }
   ],
   "source": [
    "image_url"
   ]
  },
  {
   "cell_type": "code",
   "execution_count": 8,
   "metadata": {
    "ExecuteTime": {
     "end_time": "2021-02-04T02:42:44.113425Z",
     "start_time": "2021-02-04T02:42:43.982016Z"
    }
   },
   "outputs": [
    {
     "data": {
      "text/plain": [
       "('광운대맛집1.jpg', <http.client.HTTPMessage at 0x11179a0f0>)"
      ]
     },
     "execution_count": 8,
     "metadata": {},
     "output_type": "execute_result"
    }
   ],
   "source": [
    "# 이미지 저장을 위한 패키지\n",
    "import urllib\n",
    "# 이미지 저장\n",
    "urllib.request.urlretrieve(image_url, '광운대맛집1.jpg')"
   ]
  },
  {
   "cell_type": "code",
   "execution_count": 5,
   "metadata": {
    "ExecuteTime": {
     "end_time": "2021-02-04T03:54:00.693035Z",
     "start_time": "2021-02-04T03:54:00.600181Z"
    },
    "collapsed": true
   },
   "outputs": [
    {
     "ename": "NameError",
     "evalue": "name 'driver' is not defined",
     "output_type": "error",
     "traceback": [
      "\u001b[1;31m---------------------------------------------------------------------------\u001b[0m",
      "\u001b[1;31mNameError\u001b[0m                                 Traceback (most recent call last)",
      "\u001b[1;32m<ipython-input-5-f7d4a4c7f04d>\u001b[0m in \u001b[0;36m<module>\u001b[1;34m\u001b[0m\n\u001b[0;32m      1\u001b[0m \u001b[1;31m# 앞 포스팅으로 이동하는 꺽쇠 버튼(첫 포스팅은 작동을 뒤로합니다.)\u001b[0m\u001b[1;33m\u001b[0m\u001b[1;33m\u001b[0m\u001b[1;33m\u001b[0m\u001b[0m\n\u001b[1;32m----> 2\u001b[1;33m \u001b[0mdriver\u001b[0m\u001b[1;33m.\u001b[0m\u001b[0mfind_element_by_xpath\u001b[0m\u001b[1;33m(\u001b[0m\u001b[1;34m'/html/body/div[5]/div[1]/div/div/a'\u001b[0m\u001b[1;33m)\u001b[0m\u001b[1;33m.\u001b[0m\u001b[0mclick\u001b[0m\u001b[1;33m(\u001b[0m\u001b[1;33m)\u001b[0m\u001b[1;33m\u001b[0m\u001b[1;33m\u001b[0m\u001b[0m\n\u001b[0m\u001b[0;32m      3\u001b[0m \u001b[1;31m# 뒤 포스팅으로 이동하는 꺾쇠 버튼\u001b[0m\u001b[1;33m\u001b[0m\u001b[1;33m\u001b[0m\u001b[1;33m\u001b[0m\u001b[0m\n\u001b[0;32m      4\u001b[0m \u001b[0mdriver\u001b[0m\u001b[1;33m.\u001b[0m\u001b[0mfind_element_by_xpath\u001b[0m\u001b[1;33m(\u001b[0m\u001b[1;34m'/html/body/div[5]/div[1]/div/div/a[2]'\u001b[0m\u001b[1;33m)\u001b[0m\u001b[1;33m.\u001b[0m\u001b[0mclick\u001b[0m\u001b[1;33m(\u001b[0m\u001b[1;33m)\u001b[0m\u001b[1;33m\u001b[0m\u001b[1;33m\u001b[0m\u001b[0m\n",
      "\u001b[1;31mNameError\u001b[0m: name 'driver' is not defined"
     ]
    }
   ],
   "source": [
    "# 앞 포스팅으로 이동하는 꺽쇠 버튼(첫 포스팅은 작동을 뒤로합니다.)\n",
    "driver.find_element_by_xpath('/html/body/div[5]/div[1]/div/div/a').click()\n",
    "# 뒤 포스팅으로 이동하는 꺾쇠 버튼\n",
    "driver.find_element_by_xpath('/html/body/div[5]/div[1]/div/div/a[2]').click()\n",
    "\n",
    "# //*[@id=\"main_pack\"]/section/div/div[2]/panel-list/div[1]/more-contents/div/ul/li[1]/div[2]/div/div/a\n",
    "# //*[@id=\"main_pack\"]/section/div/div[2]/panel-list/div[1]/more-contents/div/ul/li[1]/div[3]/div/div/a"
   ]
  },
  {
   "cell_type": "code",
   "execution_count": null,
   "metadata": {},
   "outputs": [],
   "source": []
  },
  {
   "cell_type": "markdown",
   "metadata": {},
   "source": [
    "## 크롤링 참고용 추가 코드"
   ]
  },
  {
   "cell_type": "code",
   "execution_count": 49,
   "metadata": {},
   "outputs": [],
   "source": [
    "# 스크립트 형태로 전달\n",
    "driver.execute_script('document.getElementById(\"id\").value = \"\"')\n",
    "driver.execute_script('document.getElementById(\"pw\").value = \"\"'')\n",
    "\n",
    "# 스크롤다운\n",
    "driver.execute_script(\"window.scrollTo(0, document.body.scrollHeight);\")"
   ]
  }
 ],
 "metadata": {
  "celltoolbar": "Slideshow",
  "kernelspec": {
   "display_name": "Python 3",
   "language": "python",
   "name": "python3"
  },
  "language_info": {
   "codemirror_mode": {
    "name": "ipython",
    "version": 3
   },
   "file_extension": ".py",
   "mimetype": "text/x-python",
   "name": "python",
   "nbconvert_exporter": "python",
   "pygments_lexer": "ipython3",
   "version": "3.6.5"
  },
  "toc": {
   "base_numbering": 1,
   "nav_menu": {},
   "number_sections": true,
   "sideBar": true,
   "skip_h1_title": true,
   "title_cell": "Table of Contents",
   "title_sidebar": "Contents",
   "toc_cell": false,
   "toc_position": {},
   "toc_section_display": true,
   "toc_window_display": false
  }
 },
 "nbformat": 4,
 "nbformat_minor": 2
}
