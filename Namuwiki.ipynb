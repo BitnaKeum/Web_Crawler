{
 "cells": [
  {
   "cell_type": "code",
   "execution_count": null,
   "metadata": {},
   "outputs": [],
   "source": [
    "# 나무위키 DB 덤프 파일 다운로드 \n",
    "# https://namu.wiki/w/%EB%82%98%EB%AC%B4%EC%9C%84%ED%82%A4:%EB%8D%B0%EC%9D%B4%ED%84%B0%EB%B2%A0%EC%9D%B4%EC%8A%A4%20%EB%8D%A4%ED%94%84\n",
    "# namuwiki.json으로 이름 변경"
   ]
  },
  {
   "cell_type": "markdown",
   "metadata": {},
   "source": [
    "### Ver1. NamuwikiExtractor 사용"
   ]
  },
  {
   "cell_type": "code",
   "execution_count": null,
   "metadata": {
    "scrolled": false
   },
   "outputs": [],
   "source": [
    "!python NamuwikiExtractor.py --dump_path \"C:/Users/beaus/Desktop/Crawling/namuwiki.json\" --output_file \"C:\\Users\\beaus\\Desktop\\Crawling/namuwiki.txt\""
   ]
  },
  {
   "cell_type": "markdown",
   "metadata": {},
   "source": [
    "### Ver2"
   ]
  },
  {
   "cell_type": "code",
   "execution_count": 26,
   "metadata": {},
   "outputs": [],
   "source": [
    "index_list = []\n",
    "title_list = []\n",
    "content_list = []"
   ]
  },
  {
   "cell_type": "code",
   "execution_count": 31,
   "metadata": {},
   "outputs": [],
   "source": [
    "def load_json(filename):\n",
    "    with open(filename, 'r', encoding='utf-8') as fd:\n",
    "        parser = ijson.parse(fd)\n",
    "        for prefix, event, value in parser:\n",
    "            if prefix.endswith('.title'):\n",
    "#                 print(\"\\nTITLE: %s\" % value)\n",
    "                title_list.append(value)\n",
    "            elif prefix.endswith('.text'):\n",
    "#                 print(\"\\nCONTENT: %s\" % value)\n",
    "                content_list.append(value)\n",
    "\n",
    "    dic = {'index': index_list, 'title': title_list, 'content': content_list}\n",
    "    return dic"
   ]
  },
  {
   "cell_type": "code",
   "execution_count": null,
   "metadata": {},
   "outputs": [],
   "source": [
    "text = load_json('./namuwiki.json')"
   ]
  },
  {
   "cell_type": "code",
   "execution_count": 41,
   "metadata": {},
   "outputs": [
    {
     "name": "stdout",
     "output_type": "stream",
     "text": [
      "First 2 Layer의 준말로, 고급 해법의 종류 중 하나이다.\n",
      "\n",
      "고급 해법들에서 [[크로스(트위스티 퍼즐)| cross]] 이후 1층과 2층을 한번에 맞추는 방식으로 채택되고 있다. 보통의 고급 해법들은 F2L→(3층 절반) → (3층 마무리)의 순서로 끝낸다.[* 물론 블럭빌딩을 활용하는 해법은 전혀 이렇지 않다.]\n",
      "\n",
      "기본적으로는 1층의 [[코너 조각]]과 2층의 [[에지 조각]]의 색을 맞추어서 한번에 밀어넣는 방식이다. 막상 해보면 고급 해법들 중에서는 별 거 없는 해법 중 하나. 3층이 어질러져도 상관없고 두 블록이 맞춰지는 것 때문에 시각적으로 느끼기 쉽다. \n",
      "\n",
      "크게 1층 코너 조각을 넣어야 할 곳의 3층 부분에 놨을 때, 밑면의 색(흰색으로 가정)의 위치에 따라 두가지로 나눠지고, 그것과 짝지을 2층 에지 조각의 위치에 따라 가짓수가 나뉜다. 코너 조각이 1층에 잘못 끼워져있다면 그걸 빼면서 맞추는 것을 공식으로 또 나누기는 하는데 2층 에지 조각과 색깔을 맞추는 것은 빼면서 맞추나 넣으면서 맞추나 매한가지다.\n",
      "\n",
      " * 1층의 코너 조각의 흰색이 옆면을 바라보고 있을 경우.\n",
      "그대로 옆면을 돌린 위치에 에지 조각이 있으면 그대로 넣으면 되고, 틀어져있다면 에지 조각을 조정하는 공식이 들어간다. 사실상 초급 해법에서 2층 맞추기 공식을 천천히 해보면 2층 에지 조각이 들어가기 전에 1층 코너 조각을 다시 빼서 색을 맞추고 집어넣는 것을 알 수 있을 것이다. 여기서는 이미 1층 코너 각이 빠져있다고 보면 된다.\n",
      "\n",
      " * 1층의 코너 조각의 흰색이 윗면을 바라보고 있을 경우.\n",
      "이 경우가 사실상 F2L의 핵심. 이 때, 맞춰야 할 에지 조각이 옆에 붙어있으면 안 된다. 둘이 떨어져 있을 때 공식으로 둘을 합치면 색이 맞게 된다. 흰색이 윗면을 바라보고 있는 경우의 공식들을 보면 결국 마지막은 다 똑같다. 그런데 이 부분이 글이나 그림으로 보면 이해가 잘 안 되는 부분이기 때문에 해법 가이드들에서 이 부분을 동영상으로 찍어두는 경우가 많다. 다른 부분은 그림 보면서 천천히 해도 바로 이해가 가는 부분.\n",
      "\n",
      " * 예외 상황.\n",
      "이미 조각들이 들어가버린 상태다. 1층이 틀릴 경우는 얄짤없이 빼야하고(어차피 빼고 맞추는 건데 거창하게 공식으로 붙은 경우도 있다.), 2층만 틀릴 경우 [[3×3×3 큐브 해법|중급 해법]]의 2층끼리 맞바꾸는 공식을 쓰거나, 2층만 뒤집는 공식이 따로 있다. 사실상 유일한 예외. 아무리 F2L을 처음 배워도 F2L이 1, 2층 따로 맞추는 것보다 더 빠르지만 이 예외는 F2L치고 복잡한 편이기 때문에 2층 블록을 빼고 다시 넣는 것과 속도가 비슷할 경우도 있다. 하지만 많이 하다보면 결국에는 1층 블록의 흰색이 윗면으로 나오게 빼면서 다시 넣는 공식이란 걸 느끼게 된다.\n",
      "\n",
      "자세한 해법은 검색을 권함. 다만 해보면 저 세가지 상황을 조금씩 비튼 것이란 걸 알 수 있다. --그게 좀 많은 게 문제--\n",
      "\n",
      "모두 익히고 나면 시간이 꽤나 단축된다. 노력 대비 성능비가 꽤 좋은 방법 중 하나. 참고로 F2L은 같은 블럭을 넣더라도 여러 가지 해법이 존재할 수 있는데, 하나만 외우지 말고 여러 가지를 여러 방향에서 익히는 것이 좋다. 예를 들면 90도 돌아간 상황에서 더 편한 방법이 있고, 또 외우고 있다면 두 블럭 외의 다른 블럭의 움직임도 통제할 수 있는 등, 생각보다 팔 것이 많은 방법이다.\n",
      "\n",
      "특히 옆 슬롯이 비어 있는 경우 그것을 이용해서 빠르게 F2L을 맞추는 방법이 존재한다. 빈자리 F2L(Advanced F2L, A-F2L)이라고 부르며, 기록을 단축하기 위해서는 필수적으로 익혀야 하는 기술. \n",
      "\n",
      "이밖에도 R과 U만 쓰면 에지 조각의 오리엔테이션이 변하지 않는다는 수학적인 사실을 이해하고 있으면 상황판단을 좀 더 빠르게 할 수 있다. \n",
      "\n",
      "[[분류:트위스티 퍼즐/해법]]\n"
     ]
    }
   ],
   "source": [
    "print(text['content'][10000])"
   ]
  },
  {
   "cell_type": "code",
   "execution_count": 45,
   "metadata": {},
   "outputs": [],
   "source": [
    "text_len = len(text['content'])  # 1734048"
   ]
  },
  {
   "cell_type": "code",
   "execution_count": 42,
   "metadata": {},
   "outputs": [],
   "source": [
    "# 전처리 작업\n",
    "\n",
    "# from namuwiki.extractor import extract_text\n",
    "# import re\n",
    "\n",
    "# def clean_text(text): \n",
    "#     cleaning_first_patterns = [\n",
    "#       # 아래 두개는 각주 형식이라서 있으면 이상하게 문자열 끝에 추가됨;;\n",
    "#       # [* 채집으로 한 번 아이템을 획득하면 \"다시, (채집 스킬)에 의해...\"가 뜨면서 한꺼번에 획득되는 구조.]\n",
    "#       r\"\\[\\*[^\\]]+\\]\",\n",
    "#       r\"~~[^~]+~~\"\n",
    "#     ]\n",
    "#     cleaning_first_patterns = [re.compile(pattern, re.IGNORECASE | re.MULTILINE) for pattern in cleaning_first_patterns]\n",
    "\n",
    "#     cleaning_patterns = [\n",
    "#       # 괄호와 그 내용들 제거, \n",
    "#       # 안녕(하세요) -> 안녕\n",
    "#       r\"\\([^\\)]+\\)\"\n",
    "#     ]\n",
    "#     cleaning_patterns = [re.compile(pattern, re.IGNORECASE | re.MULTILINE) for pattern in cleaning_patterns]\n",
    "\n",
    "#     # \\n -> 띄어쓰기 \n",
    "#     # \\' -> '\n",
    "#     replace_patterns = {\n",
    "#         '\\\\n': \"\\n\",\n",
    "#         \"\\\\'\": \"'\"\n",
    "#     }\n",
    "\n",
    "#     for regex in cleaning_first_patterns:\n",
    "#         text = re.sub(regex, \"\", text)\n",
    "\n",
    "#     text = extract_text(text)\n",
    "\n",
    "#     for regex in cleaning_patterns:\n",
    "#         text = re.sub(regex, \"\", text)\n",
    "#     for k, v in replace_patterns:\n",
    "#         text = text.replace(k, v)\n",
    "        \n",
    "#     return text"
   ]
  },
  {
   "cell_type": "markdown",
   "metadata": {},
   "source": [
    "### Ver3"
   ]
  },
  {
   "cell_type": "code",
   "execution_count": null,
   "metadata": {},
   "outputs": [],
   "source": [
    "import ijson\n",
    "import kss\n",
    "from namuwiki.extractor import extract_text\n",
    "\n",
    "SOURCE_FILE = './namuwiki.json' # 덤프 파일 경로\n",
    "\n",
    "capture_values = [\n",
    "    (\"item.namespace\", \"string\"),\n",
    "    (\"item.title\", \"string\"),\n",
    "    (\"item.text\", \"string\")\n",
    "]\n",
    "\n",
    "def parse_namuwiki_json(limit = -1, debug=False):\n",
    "    i = 0\n",
    "    doc = {}\n",
    "    with open(SOURCE_FILE, encoding='utf-8') as f:\n",
    "        for prefix, event, value in ijson.parse(f):\n",
    "            if debug:\n",
    "                print(prefix, event, value)\n",
    "\n",
    "            if (prefix, event) in capture_values:\n",
    "                doc[prefix[5:]] = value\n",
    "            if (prefix, event, value) == (\"item\", \"end_map\", None):\n",
    "                yield doc    \n",
    "                doc = {}\n",
    "                i += 1\n",
    "\n",
    "            if limit > 0 and i >= limit:\n",
    "                break\n",
    "\n",
    "for doc in parse_namuwiki_json(10, debug=False):\n",
    "    print(doc['text'])\n",
    "    print(\"@#$@#$\" * 10)\n",
    "    doc['text'] = extract_text(doc['text'])\n",
    "    print(doc['text'])"
   ]
  }
 ],
 "metadata": {
  "kernelspec": {
   "display_name": "Python 3",
   "language": "python",
   "name": "python3"
  },
  "language_info": {
   "codemirror_mode": {
    "name": "ipython",
    "version": 3
   },
   "file_extension": ".py",
   "mimetype": "text/x-python",
   "name": "python",
   "nbconvert_exporter": "python",
   "pygments_lexer": "ipython3",
   "version": "3.6.5"
  }
 },
 "nbformat": 4,
 "nbformat_minor": 2
}
