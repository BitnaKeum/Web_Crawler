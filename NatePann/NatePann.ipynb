{
 "cells": [
  {
   "cell_type": "markdown",
   "metadata": {},
   "source": [
    "# 네이트판 톡커들의 선택(일간) 크롤링"
   ]
  },
  {
   "cell_type": "code",
   "execution_count": 1,
   "metadata": {},
   "outputs": [],
   "source": [
    "from selenium import webdriver\n",
    "from bs4 import BeautifulSoup\n",
    "import time\n",
    "import requests"
   ]
  },
  {
   "cell_type": "code",
   "execution_count": null,
   "metadata": {},
   "outputs": [],
   "source": [
    "start_date = '20210710' # 시작 날짜 입력\n",
    "end_date = '20210712'   # 종료 날짜 입력"
   ]
  },
  {
   "cell_type": "code",
   "execution_count": 162,
   "metadata": {},
   "outputs": [],
   "source": [
    "driver = webdriver.Chrome(\"./chromedriver\")"
   ]
  },
  {
   "cell_type": "code",
   "execution_count": 122,
   "metadata": {},
   "outputs": [],
   "source": [
    "# 글 링크 모으기 (하루 당 100개의 글)\n",
    "\n",
    "url_list = []\n",
    "for date in range(int(start_date), int(end_date)+1):\n",
    "    for page in [1, 2]:\n",
    "        url = f'https://pann.nate.com/talk/ranking/d?stdt={date}&page={page}'\n",
    "        driver.get(url)\n",
    "        time.sleep(0.3)\n",
    "\n",
    "        src = driver.page_source\n",
    "        html = BeautifulSoup(src, 'html.parser')\n",
    "        tags = html.select('div.cntList dt a')\n",
    "\n",
    "        for tag in tags:\n",
    "            url_list.append('https://m.pann.nate.com'+tag.attrs['href'])"
   ]
  },
  {
   "cell_type": "code",
   "execution_count": null,
   "metadata": {},
   "outputs": [],
   "source": [
    "# 본문 및 댓글 크롤링\n",
    "\n",
    "content_list = [] # 본문 리스트\n",
    "comment_list = [] # 댓글 리스트\n",
    "\n",
    "for url in url_list:\n",
    "    # 페이지 접속\n",
    "    page_id = url[-9:]\n",
    "    driver.get(url)\n",
    "    time.sleep(1)\n",
    "    \n",
    "    # 본문 가져오기\n",
    "    src = driver.page_source\n",
    "    html = BeautifulSoup(src, 'html.parser')\n",
    "    tags = html.select('div.content')\n",
    "    for tag in tags:\n",
    "        content = tag.text\n",
    "        content = content.replace('\\n', ' ')\n",
    "        content = content.replace('\\t', '')\n",
    "        content = content.replace('\\xa0', '')\n",
    "        if '이미지확대보기' in content: # 이미지 첨부된 경우\n",
    "            content = content.replace('이미지확대보기', '')\n",
    "        content_list.append(content)\n",
    "        \n",
    "        \n",
    "    # 댓글 버튼 누르기   \n",
    "    driver.find_element_by_xpath('//*[@id=\"contents\"]/div[10]/div/a[1]').click() \n",
    "\n",
    "    \n",
    "    # 베스트 댓글\n",
    "    src = driver.page_source\n",
    "    html = BeautifulSoup(src, 'html.parser')\n",
    "    tags = html.select('div.reply-best dd.userText')\n",
    "    for tag in tags:\n",
    "        best_comment = tag.text\n",
    "        best_comment = best_comment.replace('\\n', ' ')\n",
    "        best_comment = best_comment.replace('\\t', '')\n",
    "        if '이미지확대보기' in best_comment: # 이미지 첨부된 경우\n",
    "            best_comment = best_comment.replace('이미지확대보기', '')\n",
    "        comment_list.append(best_comment)\n",
    "\n",
    "        \n",
    "    # 일반 댓글\n",
    "    reply_page = 1\n",
    "    bef_tags = None\n",
    "    while True:\n",
    "        src = driver.page_source\n",
    "        html = BeautifulSoup(src, 'html.parser')\n",
    "        cur_tags = html.select('div#listDiv dd.userText')\n",
    "\n",
    "        if bef_tags == cur_tags: # 댓글 마지막 페이지\n",
    "            break\n",
    "        bef_tags = cur_tags\n",
    "\n",
    "        for tag in cur_tags:\n",
    "            comment = tag.text\n",
    "            comment = comment.replace('\\n', ' ')\n",
    "            comment = comment.replace('\\t', '')\n",
    "            if '이미지확대보기' in comment: # 이미지 첨부된 경우\n",
    "                comment = comment.replace('이미지확대보기', '')\n",
    "            comment_list.append(comment)\n",
    "\n",
    "        # 댓글 다음 페이지로 이동\n",
    "        reply_page += 1\n",
    "        reply_url = f'https://m.pann.nate.com/talk/reply/view?pann_id={page_id}&order=N&rankingType=total&page={reply_page}'\n",
    "        driver.get(reply_url)\n",
    "        time.sleep(1)"
   ]
  },
  {
   "cell_type": "code",
   "execution_count": 155,
   "metadata": {},
   "outputs": [],
   "source": [
    "import pandas as pd\n",
    "\n",
    "# csv 파일로 저장\n",
    "df = pd.DataFrame(content_list+comment_list, columns=[\"text\"])"
   ]
  },
  {
   "cell_type": "code",
   "execution_count": 160,
   "metadata": {},
   "outputs": [],
   "source": [
    "# UnicodeEncodeError 에러 발생 시 해당 문자열을 제거해줌\n",
    "# df = df.applymap(lambda x: x.replace('오류난 문자열',''))  "
   ]
  },
  {
   "cell_type": "code",
   "execution_count": 161,
   "metadata": {},
   "outputs": [],
   "source": [
    "df.to_csv('./natepann.csv', mode = 'w', encoding='cp949')"
   ]
  },
  {
   "cell_type": "code",
   "execution_count": null,
   "metadata": {},
   "outputs": [],
   "source": []
  }
 ],
 "metadata": {
  "kernelspec": {
   "display_name": "Python 3",
   "language": "python",
   "name": "python3"
  },
  "language_info": {
   "codemirror_mode": {
    "name": "ipython",
    "version": 3
   },
   "file_extension": ".py",
   "mimetype": "text/x-python",
   "name": "python",
   "nbconvert_exporter": "python",
   "pygments_lexer": "ipython3",
   "version": "3.6.5"
  }
 },
 "nbformat": 4,
 "nbformat_minor": 2
}
