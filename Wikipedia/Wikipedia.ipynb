{
 "cells": [
  {
   "cell_type": "code",
   "execution_count": 39,
   "metadata": {},
   "outputs": [],
   "source": [
    "import requests\n",
    "from bs4 import BeautifulSoup\n",
    "import csv\n",
    "import pandas as pd"
   ]
  },
  {
   "cell_type": "code",
   "execution_count": 43,
   "metadata": {},
   "outputs": [
    {
     "name": "stdout",
     "output_type": "stream",
     "text": [
      "#0 접속 성공\n",
      "title:  은현초등학교\n",
      "은현초등학교의 위치은현초등학교는 경기도 양주시 은현면 선암리에 있는 공립 공립 초등학교이다.\n",
      "#1 접속 성공\n",
      "#2 접속 성공\n",
      "#3 접속 성공\n",
      "#4 접속 성공\n",
      "#5 접속 성공\n",
      "#6 접속 성공\n",
      "#7 접속 성공\n",
      "#8 접속 성공\n",
      "#9 접속 성공\n",
      "#10 접속 성공\n",
      "title:  시상하부 뇌하수체 생식선 축\n",
      "시상하부 뇌하수체 생식선 축(hypothalamic–pituitary–gonadal axis ,HPG axis) 또는 시상하부 뇌하수체 생식샘 축은 생식샘과 시상하부 그리고 뇌하수체 사이에서 호르몬 조절에 관한 상호 관계를 조절하는 축을 가리킨다. 방출 호르몬(RH)을 통해서 시상 하부에서 뇌하수체를 자극하면 생식샘 자극 호르몬이 분비되고 혈액을 통해 이동하여 생식샘에서 남성 호르몬 및 여성 호르몬을 유리하며, 이것이 혈중에 어느 정도 올라가면 되먹임하여 시상 하부를 역으로 다시 자극함으로써 뇌하수체가 더 이상 자극 물질을 분비하지 못하도록 억제하는 생리작용 기작을 가리킨다.생식샘자극호르몬 방출호르몬(Gonadotropin-releasing hormone ,GnRH)은 시상 하부에서 방출되어 이로써 뇌하수체를 자극하게 되면 뇌하수체에서 생식샘 자극 호르몬(Gonadotropin) 을 분비하게되고 이후 혈액을 통해 이동하여 생식샘에 도달하여 성 호르몬(sex hormone)을 유리토록한다. 이러한 호르몬들의 혈중농도는 다시 시상하부 및 뇌하수체 전엽에 전달될수있는 역 기작인 되먹임(feedback)을 하는 축을 구성하게된다.\n",
      "#11 접속 성공\n",
      "#12 접속 성공\n",
      "#13 접속 성공\n",
      "#14 접속 성공\n",
      "#15 접속 성공\n",
      "#16 접속 성공\n",
      "#17 접속 성공\n",
      "#18 접속 성공\n",
      "#19 접속 성공\n",
      "#20 접속 성공\n",
      "title:  Roobee\n",
      "루비(Roobee)는 인공지능(AI) 기술을 활용하여 블록체인 투자 서비스를 제공하는 국제적 핀테크 기업이다.[1][2] 루비는 일반인과 개인 투자자를 위해 개발된 최초의 블록체인 서비스 업체로 여겨지고 있다.[3][4][5] 루비는 사용자들이 융자, IPO, 벤처 캐피탈, 주식, 암호화폐, ETF 및 다른 금융상품에 투자하도록 돕는다.[6][7][8]루비는 2017년 공동 창업자 아르템 포포프와 함께 설립되었다.[9][10] 2018년 8월 2일, 루비는 사전 시드 투자 라운드에서 블룸버그가 '2억 달러 거래자(200m_trader)'라고 이름 붙인 익명의 투자가에게 450만 달러를 투자 받았다.[11][12] 테스트 기간 동안 루비는 5천 명이 넘는 사용자를 끌어모았으며 이들은 이더리움을 통해 미화 1,500 만 달러 이상을 펀드, 벤처, 그리고 블록체인 프로젝트에 투자했다.[13][14]\n",

      "\n...(생략)...\n\n",

      "#5430 접속 성공\n",
      "title:  통영 약수암 목조아미타여래좌상\n",
      "통영 약수암 목조아미타여래좌상(統營 藥水庵 木造阿彌陀如來坐像)은 경상남도 통영시 도천동 약수암에 있는 조선시대의 불상이다. 2008년 1월 10일 경상남도의 유형문화재 제465호로 지정되었다.[1]이 木造阿彌陀佛坐像은 통영 약수암 무량수전 내 중앙 수미단의 향좌측에 봉안되어 있다. 사측에 의하면 이 불상은 약수암을 건립할 때 통도사에 있던 것을 이운해 왔다고 한다. 불상의 전체 높이가 58.3㎝인 규모가 작은 불상이며, 통견에 아미타구품인을 결한 채 결가부좌하고 있는 모습이다. 머리부터 저부까지의 하나로 된 몸체 1板, 결가부좌한 다리부분 1板, 그리고 底部 木板 등 목재 3판으로 조성되어 있는 이 불상은 背面과 저부에 腹藏孔이 가구되어 있는데 저부 복장공 덮개의 결실과 함께 복장 내부가 텅 비어 있다. 1998년에 개금불사를 하였다고 하며 점안 때 그려진 눈썹의 일부가 지워져 있고, 몸체 아래 부분에는 금박이 벗겨져 옻칠이 군데군데 드러난 곳이 많다. 그러나 반파된 나발 1개 및 나발 4개가 떨어져 나간 것과 저부 목판 후면 가장자리 일부가 손상된 것 외에는 보존상태가 좋은 편이다.\n",
      "#5431 접속 성공\n",
      "#5432 접속 성공\n",
      "#5433 접속 성공\n",
      "#5434 접속 성공\n",
      "#5435 접속 성공\n",
      "#5436 접속 성공\n",
      "#5437 접속 성공\n",
      "#5438 접속 성공\n",
      "#5439 접속 성공\n",
      "#5440 접속 성공\n",
      "title:  다이아몬드 릴\n",
      "《다이아몬드 릴》(She Done Him Wrong)은 미국에서 제작된 로웰 셔먼 감독의 1933년 프리코드 코미디, 드라마 영화이다. 캐리 그랜트 등이 주연으로 출연하였고 윌리엄 레바론 등이 제작에 참여하였다.이 영화는 오늘날 아카데미 작품상으로 알려져 있는 아웃스탠딩 프로덕션 부문에 후보로 지명되었다. 66분 길이로 지금까지 영예를 얻은 영화들 가운데 가장 길이가 짧은 영화이다.\n",
      "#5441 접속 성공\n",
      "#5442 접속 성공\n",
      "#5443 접속 성공\n",
      "#5444 접속 성공\n",
      "#5445 접속 성공\n",
      "#5446 접속 성공\n",
      "#5447 접속 성공\n",
      "#5448 접속 성공\n",
      "#5449 접속 성공\n",
      "#5450 접속 성공\n",
      "title:  상무인서관\n",
      "상무인서관(商務印書館)은 상하이에 있는 중국 최대의 출판사이다.[1] 1897년에 장 원제(張元濟, 1866～ ?)가 창립(創立). 많은 사전ㆍ총서 등(等)을 간행(刊行)했으며, 상해에 동방(東方) 도서관(圖書館)을 경영(經營)했음. 현재(現在)는 중국(中國) 본토(本土)와 대만(臺灣)에 각각(各各) 나누어 존속하고 있는 외(外)에 홍콩에 상무 인서관이 있음.\n",
      "#5451 접속 성공\n",
      "#5452 접속 성공\n",
      "#5453 접속 성공\n",
      "#5454 접속 성공\n",
      "#5455 접속 성공\n",
      "#5456 접속 성공\n",
      "#5457 접속 성공\n"
     ]
    },
   ],
   "source": [
    "title_list = []\n",
    "content_list = []\n",
    "\n",
    "iter = 0\n",
    "while(1):\n",
    "    # 랜덤 키워드\n",
    "    url = 'https://ko.wikipedia.org/wiki/%ED%8A%B9%EC%88%98:%EC%9E%84%EC%9D%98%EB%AC%B8%EC%84%9C'\n",
    "\n",
    "    response = requests.get(url)\n",
    "    if response.status_code == requests.codes.ok:\n",
    "        print(f\"#{iter} 접속 성공\")\n",
    "        soup = BeautifulSoup(response.text, 'html.parser')\n",
    "        title = soup.select('h1#firstHeading')[0].text # 제목(키워드) 가져오기\n",
    "        title_list.append(title)\n",
    "        \n",
    "        tags = soup.select('p') # 내용(본문) 가져오기\n",
    "        contents = ''\n",
    "        for tag in tags:\n",
    "            text = tag.text\n",
    "            text = text.replace('\\n', '')\n",
    "            contents += text\n",
    "        content_list.append(contents)\n",
    "        \n",
    "        if iter % 10 == 0: # 10번째마다 출력\n",
    "            print('title: ', title)\n",
    "            print(contents)\n",
    "        iter += 1\n",
    "        \n",
    "        result = {'title' : title_list , 'content' : content_list}\n",
    "        data = pd.DataFrame(result)\n",
    "        data.to_csv(\"output.csv\" , index=False, encoding='utf-8-sig')\n",
    "\n",
    "    else:\n",
    "        print(f\"#{iter} 접속 실패\")\n",
    "#         break"
   ]
  },
  {
   "cell_type": "code",
   "execution_count": 39,
   "metadata": {},
   "outputs": [],
   "source": [
    "### API 사용하지 않고 직접 크롤링 시 보통 5400번째 부근에서 접속이 끊김\n",
   ]
  },
  {
   "cell_type": "code",
   "execution_count": null,
   "metadata": {},
   "outputs": [],
   "source": []
  }
 ],
 "metadata": {
  "kernelspec": {
   "display_name": "Python 3",
   "language": "python",
   "name": "python3"
  },
  "language_info": {
   "codemirror_mode": {
    "name": "ipython",
    "version": 3
   },
   "file_extension": ".py",
   "mimetype": "text/x-python",
   "name": "python",
   "nbconvert_exporter": "python",
   "pygments_lexer": "ipython3",
   "version": "3.6.5"
  }
 },
 "nbformat": 4,
 "nbformat_minor": 2
}
